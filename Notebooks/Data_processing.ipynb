{
 "cells": [
  {
   "cell_type": "code",
   "execution_count": null,
   "id": "8f89fe93",
   "metadata": {},
   "outputs": [],
   "source": [
    "import os\n",
    "import numpy as np\n",
    "import nibabel as nib\n",
    "import random\n",
    "import scipy.ndimage"
   ]
  },
  {
   "cell_type": "code",
   "execution_count": null,
   "id": "6fce8bf1",
   "metadata": {},
   "outputs": [],
   "source": [
    "def load_nifti(path):\n",
    "    return nib.load(path).get_fdata()\n",
    "\n",
    "\n",
    "def normalize(volume):\n",
    "    return (volume - np.mean(volume)) / np.std(volume)\n",
    "\n",
    "\n",
    "def resize_volume(volume, target_shape=(128,128,128)):\n",
    "    # Compute zoom factors for each dimension\n",
    "    factors = [t / s for t, s in zip(target_shape, volume.shape)]\n",
    "    volume_resized = scipy.ndimage.zoom(volume, zoom=factors, order=1)  # order=1: linear interpolation\n",
    "    return volume_resized"
   ]
  },
  {
   "cell_type": "code",
   "execution_count": null,
   "id": "ee2d9413",
   "metadata": {},
   "outputs": [],
   "source": [
    "def preprocess_subject(path):\n",
    "    subject_id = os.path.basename(path)\n",
    "\n",
    "    flair = normalize(load_nifti(os.path.join(path, f\"{subject_id}-t2f.nii.gz\")))\n",
    "    t1 = normalize(load_nifti(os.path.join(path, f\"{subject_id}-t1n.nii.gz\")))\n",
    "    t1ce = normalize(load_nifti(os.path.join(path, f\"{subject_id}-t1c.nii.gz\")))\n",
    "    t2 = normalize(load_nifti(os.path.join(path, f\"{subject_id}-t2w.nii.gz\")))\n",
    "    seg = load_nifti(os.path.join(path, f\"{subject_id}-seg.nii.gz\"))\n",
    "\n",
    "    # Resize each modality\n",
    "    flair = resize_volume(flair)\n",
    "    t1 = resize_volume(t1)\n",
    "    t1ce = resize_volume(t1ce)\n",
    "    t2 = resize_volume(t2)\n",
    "\n",
    "    # For segmentation, use order=0 (nearest neighbor) to preserve labels\n",
    "    seg = scipy.ndimage.zoom(seg,\n",
    "                             zoom=[128/s for s in seg.shape],\n",
    "                             order=0).astype(np.uint8)\n",
    "\n",
    "    # Stack modalities\n",
    "    image = np.stack([flair, t1, t1ce, t2], axis=-1)\n",
    "\n",
    "    return image, seg"
   ]
  },
  {
   "cell_type": "code",
   "execution_count": null,
   "id": "7aefcb36",
   "metadata": {},
   "outputs": [],
   "source": [
    "def data_generator(subject_dirs, batch_size):\n",
    "    while True:\n",
    "        random.shuffle(subject_dirs)\n",
    "        for i in range(0, len(subject_dirs), batch_size):\n",
    "            batch_images, batch_masks = [], []\n",
    "            batch_subjects = subject_dirs[i:i+batch_size]\n",
    "            if len(batch_subjects) == 0:\n",
    "                continue  # skip empty batch\n",
    "\n",
    "            for subject_path in batch_subjects:\n",
    "                image, mask = preprocess_subject(subject_path)\n",
    "                batch_images.append(image)\n",
    "                batch_masks.append(mask)\n",
    "\n",
    "            batch_images = np.array(batch_images)\n",
    "            batch_masks = np.array(batch_masks)\n",
    "\n",
    "            if batch_images.size == 0 or batch_masks.size == 0:\n",
    "                continue  # skip empty batch\n",
    "\n",
    "            yield batch_images, batch_masks"
   ]
  }
 ],
 "metadata": {
  "language_info": {
   "name": "python"
  }
 },
 "nbformat": 4,
 "nbformat_minor": 5
}
