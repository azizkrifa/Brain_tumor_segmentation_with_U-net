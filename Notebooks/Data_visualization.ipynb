{
 "cells": [
  {
   "cell_type": "code",
   "execution_count": null,
   "id": "efad3290",
   "metadata": {},
   "outputs": [],
   "source": [
    "from Utils import download_data ,plot_all_modalities ,plot_segmentation"
   ]
  },
  {
   "cell_type": "code",
   "execution_count": null,
   "id": "aa999542",
   "metadata": {},
   "outputs": [],
   "source": [
    "download_data()"
   ]
  },
  {
   "cell_type": "code",
   "execution_count": null,
   "id": "12b0d4d3",
   "metadata": {},
   "outputs": [],
   "source": [
    "train_dir = \"/content/BraTS2024/Train\"\n",
    "val_dir = \"/content/BraTS2024/Val\""
   ]
  },
  {
   "cell_type": "code",
   "execution_count": null,
   "id": "8a4620c9",
   "metadata": {},
   "outputs": [],
   "source": [
    "sample_path=f\"{train_dir}/BraTS-GLI-02415-100\"\n",
    "plot_all_modalities(sample_path)"
   ]
  },
  {
   "cell_type": "code",
   "execution_count": null,
   "id": "ee19cdb2",
   "metadata": {},
   "outputs": [],
   "source": [
    "segmentation_path = f\"{sample_path}/BraTS-GLI-02415-100-seg.nii.gz\"\n",
    "plot_segmentation(segmentation_path)"
   ]
  }
 ],
 "metadata": {
  "kernelspec": {
   "display_name": "Python 3",
   "language": "python",
   "name": "python3"
  },
  "language_info": {
   "codemirror_mode": {
    "name": "ipython",
    "version": 3
   },
   "file_extension": ".py",
   "mimetype": "text/x-python",
   "name": "python",
   "nbconvert_exporter": "python",
   "pygments_lexer": "ipython3",
   "version": "3.12.4"
  }
 },
 "nbformat": 4,
 "nbformat_minor": 5
}
