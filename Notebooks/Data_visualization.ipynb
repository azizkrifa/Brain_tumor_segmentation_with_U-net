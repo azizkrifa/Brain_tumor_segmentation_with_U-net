{
 "cells": [
  {
   "cell_type": "code",
   "execution_count": null,
   "id": "efad3290",
   "metadata": {},
   "outputs": [],
   "source": [
    "from Utils import download_data ,plot_all_modalities ,plot_segmentation ,display_dataset_distribution\n",
    "from Data_processing import create_testset\n"
   ]
  },
  {
   "cell_type": "code",
   "execution_count": null,
   "id": "aa999542",
   "metadata": {},
   "outputs": [],
   "source": [
    "download_data()"
   ]
  },
  {
   "cell_type": "code",
   "execution_count": 1,
   "id": "12b0d4d3",
   "metadata": {},
   "outputs": [],
   "source": [
    "train_dir = \"/content/BraTS2024/Train\"\n",
    "val_dir = \"/content/BraTS2024/Val\"\n",
    "test_dir = \"/content/BraTS2024/Test\""
   ]
  },
  {
   "cell_type": "code",
   "execution_count": null,
   "id": "8a4620c9",
   "metadata": {},
   "outputs": [],
   "source": [
    "sample_path=f\"{train_dir}/BraTS-GLI-02415-100\"\n",
    "plot_all_modalities(sample_path)\n",
    "\n",
    "segmentation_path = f\"{sample_path}/BraTS-GLI-02415-100-seg.nii.gz\"\n",
    "plot_segmentation(segmentation_path)"
   ]
  },
  {
   "cell_type": "code",
   "execution_count": null,
   "id": "1ab962d5",
   "metadata": {},
   "outputs": [],
   "source": [
    "create_testset(train_dir, val_dir)"
   ]
  },
  {
   "cell_type": "code",
   "execution_count": null,
   "id": "f07b68f7",
   "metadata": {},
   "outputs": [],
   "source": [
    "display_dataset_distribution(train_dir, val_dir, test_dir)"
   ]
  }
 ],
 "metadata": {
  "kernelspec": {
   "display_name": "Python 3",
   "language": "python",
   "name": "python3"
  },
  "language_info": {
   "codemirror_mode": {
    "name": "ipython",
    "version": 3
   },
   "file_extension": ".py",
   "mimetype": "text/x-python",
   "name": "python",
   "nbconvert_exporter": "python",
   "pygments_lexer": "ipython3",
   "version": "3.12.4"
  }
 },
 "nbformat": 4,
 "nbformat_minor": 5
}
